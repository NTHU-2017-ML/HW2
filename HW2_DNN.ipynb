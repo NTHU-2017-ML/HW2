{
 "cells": [
  {
   "cell_type": "markdown",
   "metadata": {},
   "source": [
    "## Download the data"
   ]
  },
  {
   "cell_type": "code",
   "execution_count": 1,
   "metadata": {},
   "outputs": [
    {
     "name": "stdout",
     "output_type": "stream",
     "text": [
      "Extracting /tmp/data/train-images-idx3-ubyte.gz\n",
      "Extracting /tmp/data/train-labels-idx1-ubyte.gz\n",
      "Extracting /tmp/data/t10k-images-idx3-ubyte.gz\n",
      "Extracting /tmp/data/t10k-labels-idx1-ubyte.gz\n"
     ]
    }
   ],
   "source": [
    "import numpy as np\n",
    "import os\n",
    "import tensorflow as tf\n",
    "\n",
    "###### Do not modify here ###### \n",
    "\n",
    "# to make this notebook's output stable across runs\n",
    "def reset_graph(seed=42):\n",
    "    tf.reset_default_graph()\n",
    "    tf.set_random_seed(seed)\n",
    "    np.random.seed(seed)\n",
    "\n",
    "reset_graph()\n",
    "\n",
    "from tensorflow.examples.tutorials.mnist import input_data\n",
    "mnist = input_data.read_data_sets(\"/tmp/data/\")\n",
    "\n",
    "# training on MNIST but only on digits 0 to 4\n",
    "X_train1 = mnist.train.images[mnist.train.labels < 5]\n",
    "y_train1 = mnist.train.labels[mnist.train.labels < 5]\n",
    "X_valid1 = mnist.validation.images[mnist.validation.labels < 5]\n",
    "y_valid1 = mnist.validation.labels[mnist.validation.labels < 5]\n",
    "X_test1 = mnist.test.images[mnist.test.labels < 5]\n",
    "y_test1 = mnist.test.labels[mnist.test.labels < 5]\n",
    "###### Do not modify here ###### \n"
   ]
  },
  {
   "cell_type": "markdown",
   "metadata": {},
   "source": [
    "## Get the data shape"
   ]
  },
  {
   "cell_type": "code",
   "execution_count": 2,
   "metadata": {},
   "outputs": [
    {
     "name": "stdout",
     "output_type": "stream",
     "text": [
      "Train 55000 Validation 5000 Test 10000\n",
      "Train images : (28038, 784) Labels : (28038,)\n",
      "Validation images : (2558, 784) Labels : (2558,)\n",
      "Test images : (5139, 784) Labels : (5139,)\n"
     ]
    }
   ],
   "source": [
    "print('Train', mnist.train.num_examples, \n",
    "      'Validation', mnist.validation.num_examples,\n",
    "      'Test', mnist.test.num_examples)\n",
    "\n",
    "print('Train images :', X_train1.shape,\n",
    "      'Labels :', y_train1.shape)\n",
    "\n",
    "print('Validation images :', X_valid1.shape,\n",
    "      'Labels :', y_valid1.shape)\n",
    "\n",
    "print('Test images :', X_test1.shape,\n",
    "      'Labels :', y_test1.shape)"
   ]
  },
  {
   "cell_type": "markdown",
   "metadata": {},
   "source": [
    "## One hot-encode y value"
   ]
  },
  {
   "cell_type": "code",
   "execution_count": 3,
   "metadata": {},
   "outputs": [
    {
     "name": "stdout",
     "output_type": "stream",
     "text": [
      "Train Label:  (28038, 5)\n",
      "Validation Label:  (2558, 5)\n",
      "Test Label:  (5139, 5)\n"
     ]
    }
   ],
   "source": [
    "y_train_one_hot = np.zeros((len(y_train1), 5))\n",
    "y_train_one_hot[np.arange(len(y_train1)), y_train1] = 1\n",
    "y_valid_one_hot = np.zeros((len(y_valid1), 5))\n",
    "y_valid_one_hot[np.arange(len(y_valid1)), y_valid1] = 1\n",
    "y_test_one_hot = np.zeros((len(y_test1), 5))\n",
    "y_test_one_hot[np.arange(len(y_test1)), y_test1] = 1\n",
    "\n",
    "\n",
    "\n",
    "print (\"Train Label: \", y_train_one_hot.shape)\n",
    "print (\"Validation Label: \", y_valid_one_hot.shape)\n",
    "print (\"Test Label: \", y_test_one_hot.shape)\n"
   ]
  },
  {
   "cell_type": "markdown",
   "metadata": {},
   "source": [
    "## Construct the layer"
   ]
  },
  {
   "cell_type": "code",
   "execution_count": 4,
   "metadata": {
    "collapsed": true
   },
   "outputs": [],
   "source": [
    "def layer(output_dim, input_dim, inputs, activation=None):\n",
    "    W = tf.Variable(tf.random_normal([input_dim, output_dim]))\n",
    "    b = tf.Variable(tf.random_normal([1, output_dim]))\n",
    "    XWb = tf.matmul(inputs, W) + b\n",
    "    if activation is None:\n",
    "        outputs = XWb\n",
    "    else:\n",
    "        outputs = activation(XWb)\n",
    "    return outputs"
   ]
  },
  {
   "cell_type": "markdown",
   "metadata": {},
   "source": [
    "### Contruct the input layer"
   ]
  },
  {
   "cell_type": "code",
   "execution_count": 5,
   "metadata": {
    "collapsed": true
   },
   "outputs": [],
   "source": [
    "x = tf.placeholder(\"float\", [None, 784])"
   ]
  },
  {
   "cell_type": "markdown",
   "metadata": {},
   "source": [
    "### Contruct the hidden layer"
   ]
  },
  {
   "cell_type": "code",
   "execution_count": 6,
   "metadata": {
    "collapsed": true
   },
   "outputs": [],
   "source": [
    "h1 = layer(output_dim = 128, input_dim = 784, inputs = x, activation = tf.nn.elu)\n",
    "h2 = layer(output_dim = 128, input_dim = 128, inputs = h1, activation = tf.nn.elu)\n",
    "h3 = layer(output_dim = 128, input_dim = 128, inputs = h2, activation = tf.nn.elu)\n",
    "h4 = layer(output_dim = 128, input_dim = 128, inputs = h3, activation = tf.nn.elu)\n",
    "h5 = layer(output_dim = 128, input_dim = 128, inputs = h4, activation = tf.nn.elu)"
   ]
  },
  {
   "cell_type": "markdown",
   "metadata": {},
   "source": [
    "### contruct the output layer"
   ]
  },
  {
   "cell_type": "code",
   "execution_count": 7,
   "metadata": {
    "collapsed": true
   },
   "outputs": [],
   "source": [
    "y_predict = layer(output_dim = 5, input_dim = 128, inputs = h5, activation = tf.nn.softmax)"
   ]
  },
  {
   "cell_type": "code",
   "execution_count": 8,
   "metadata": {
    "collapsed": true
   },
   "outputs": [],
   "source": [
    "y_label = tf.placeholder(\"float\", [None, 5])"
   ]
  },
  {
   "cell_type": "code",
   "execution_count": 10,
   "metadata": {},
   "outputs": [],
   "source": [
    "loss_function = tf.reduce_mean(tf.nn.softmax_cross_entropy_with_logits(logits=y_predict, labels=y_label))\n",
    "# spec use tf.nn.sparse_softmax_cross_entropy_with_logits"
   ]
  },
  {
   "cell_type": "code",
   "execution_count": 11,
   "metadata": {
    "collapsed": true
   },
   "outputs": [],
   "source": [
    "optimizer = tf.train.AdamOptimizer(learning_rate = 0.001) \\\n",
    "                    .minimize(loss_function)"
   ]
  },
  {
   "cell_type": "code",
   "execution_count": 12,
   "metadata": {
    "collapsed": true
   },
   "outputs": [],
   "source": [
    "correct_prediction = tf.equal(tf.argmax(y_label, -1), tf.argmax(y_predict, -1))"
   ]
  },
  {
   "cell_type": "code",
   "execution_count": 13,
   "metadata": {
    "collapsed": true
   },
   "outputs": [],
   "source": [
    "accuracy = tf.reduce_mean(tf.cast(correct_prediction, \"float\"))"
   ]
  },
  {
   "cell_type": "code",
   "execution_count": 14,
   "metadata": {},
   "outputs": [
    {
     "name": "stdout",
     "output_type": "stream",
     "text": [
      "Loss:  1.67693\n",
      "Accurancy:  0.227912\n"
     ]
    }
   ],
   "source": [
    "with tf.Session() as sess:\n",
    "    sess.run(tf.global_variables_initializer())\n",
    "    sess.run(optimizer, feed_dict={x: X_train1, y_label: y_train_one_hot})\n",
    "    loss, acc = sess.run([loss_function, accuracy], \n",
    "                     feed_dict={x: X_valid1, y_label: y_valid_one_hot})\n",
    "    \n",
    "    print(\"Loss: \", loss)\n",
    "    print(\"Accurancy: \", acc)"
   ]
  },
  {
   "cell_type": "code",
   "execution_count": null,
   "metadata": {
    "collapsed": true
   },
   "outputs": [],
   "source": []
  }
 ],
 "metadata": {
  "kernelspec": {
   "display_name": "Python 3",
   "language": "python",
   "name": "python3"
  },
  "language_info": {
   "codemirror_mode": {
    "name": "ipython",
    "version": 3
   },
   "file_extension": ".py",
   "mimetype": "text/x-python",
   "name": "python",
   "nbconvert_exporter": "python",
   "pygments_lexer": "ipython3",
   "version": "3.5.4"
  }
 },
 "nbformat": 4,
 "nbformat_minor": 2
}
