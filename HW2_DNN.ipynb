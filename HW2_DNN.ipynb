{
 "cells": [
  {
   "cell_type": "markdown",
   "metadata": {},
   "source": [
    "## Download the data"
   ]
  },
  {
   "cell_type": "code",
   "execution_count": 1,
   "metadata": {},
   "outputs": [
    {
     "name": "stdout",
     "output_type": "stream",
     "text": [
      "Extracting /tmp/data/train-images-idx3-ubyte.gz\n",
      "Extracting /tmp/data/train-labels-idx1-ubyte.gz\n",
      "Extracting /tmp/data/t10k-images-idx3-ubyte.gz\n",
      "Extracting /tmp/data/t10k-labels-idx1-ubyte.gz\n"
     ]
    }
   ],
   "source": [
    "import numpy as np\n",
    "import os\n",
    "import tensorflow as tf\n",
    "import pandas as pd\n",
    "\n",
    "###### Do not modify here ###### \n",
    "\n",
    "# to make this notebook's output stable across runs\n",
    "def reset_graph(seed=42):\n",
    "    tf.reset_default_graph()\n",
    "    tf.set_random_seed(seed)\n",
    "    np.random.seed(seed)\n",
    "\n",
    "reset_graph()\n",
    "\n",
    "from tensorflow.examples.tutorials.mnist import input_data\n",
    "mnist = input_data.read_data_sets(\"/tmp/data/\")\n",
    "\n",
    "# training on MNIST but only on digits 0 to 4\n",
    "X_train1 = mnist.train.images[mnist.train.labels < 5]\n",
    "y_train1 = mnist.train.labels[mnist.train.labels < 5]\n",
    "X_valid1 = mnist.validation.images[mnist.validation.labels < 5]\n",
    "y_valid1 = mnist.validation.labels[mnist.validation.labels < 5]\n",
    "X_test1 = mnist.test.images[mnist.test.labels < 5]\n",
    "y_test1 = mnist.test.labels[mnist.test.labels < 5]\n",
    "###### Do not modify here ###### \n"
   ]
  },
  {
   "cell_type": "markdown",
   "metadata": {},
   "source": [
    "## Get the data shape"
   ]
  },
  {
   "cell_type": "code",
   "execution_count": 2,
   "metadata": {},
   "outputs": [
    {
     "name": "stdout",
     "output_type": "stream",
     "text": [
      "Train 55000 Validation 5000 Test 10000\n",
      "Train images : (28038, 784) Labels : (28038,)\n",
      "Validation images : (2558, 784) Labels : (2558,)\n",
      "Test images : (5139, 784) Labels : (5139,)\n"
     ]
    }
   ],
   "source": [
    "print('Train', mnist.train.num_examples, \n",
    "      'Validation', mnist.validation.num_examples,\n",
    "      'Test', mnist.test.num_examples)\n",
    "\n",
    "print('Train images :', X_train1.shape,\n",
    "      'Labels :', y_train1.shape)\n",
    "\n",
    "print('Validation images :', X_valid1.shape,\n",
    "      'Labels :', y_valid1.shape)\n",
    "\n",
    "print('Test images :', X_test1.shape,\n",
    "      'Labels :', y_test1.shape)\n"
   ]
  },
  {
   "cell_type": "markdown",
   "metadata": {},
   "source": [
    "## One-hot encoded y values"
   ]
  },
  {
   "cell_type": "code",
   "execution_count": 3,
   "metadata": {},
   "outputs": [
    {
     "name": "stdout",
     "output_type": "stream",
     "text": [
      "Check some examples of one-hot encoding:\n",
      "3 [ 0.  0.  0.  1.  0.] \n",
      "\n",
      "4 [ 0.  0.  0.  0.  1.] \n",
      "\n",
      "1 [ 0.  1.  0.  0.  0.] \n",
      "\n",
      "1 [ 0.  1.  0.  0.  0.] \n",
      "\n",
      "0 [ 1.  0.  0.  0.  0.] \n",
      "\n",
      "0 [ 1.  0.  0.  0.  0.] \n",
      "\n",
      "3 [ 0.  0.  0.  1.  0.] \n",
      "\n",
      "1 [ 0.  1.  0.  0.  0.] \n",
      "\n",
      "2 [ 0.  0.  1.  0.  0.] \n",
      "\n",
      "0 [ 1.  0.  0.  0.  0.] \n",
      "\n",
      "Train Label:  (28038, 5)\n",
      "Validation Label:  (2558, 5)\n",
      "Test Label:  (5139, 5)\n"
     ]
    }
   ],
   "source": [
    "y_train_one_hot = np.zeros((len(y_train1), 5))\n",
    "y_train_one_hot[np.arange(len(y_train1)), y_train1] = 1\n",
    "\n",
    "y_valid_one_hot = np.zeros((len(y_valid1), 5))\n",
    "y_valid_one_hot[np.arange(len(y_valid1)), y_valid1] = 1\n",
    "\n",
    "y_test_one_hot = np.zeros((len(y_test1), 5))\n",
    "y_test_one_hot[np.arange(len(y_test1)), y_test1] = 1\n",
    "\n",
    "print('Check some examples of one-hot encoding:')\n",
    "for i in range(10):\n",
    "    print(y_train1[i], y_train_one_hot[i], '\\n')\n",
    "\n",
    "print (\"Train Label: \", y_train_one_hot.shape)\n",
    "print (\"Validation Label: \", y_valid_one_hot.shape)\n",
    "print (\"Test Label: \", y_test_one_hot.shape)\n"
   ]
  },
  {
   "cell_type": "markdown",
   "metadata": {},
   "source": [
    "### Construct the layer function"
   ]
  },
  {
   "cell_type": "code",
   "execution_count": 4,
   "metadata": {
    "collapsed": true
   },
   "outputs": [],
   "source": [
    "def layer(output_dim, input_dim, inputs, layer, dropout_rate, activation=None):\n",
    "\n",
    "    W = tf.get_variable(\"W\" + layer, shape=[input_dim, output_dim], initializer=tf.contrib.layers.xavier_initializer())\n",
    "    b = tf.get_variable(\"b\" + layer, shape=[1, output_dim], initializer=tf.contrib.layers.xavier_initializer())\n",
    "\n",
    "    XWb = tf.matmul(inputs, W) + b\n",
    "    XWb = tf.nn.dropout(XWb, (1-dropout_rate))\n",
    "    if activation is None:\n",
    "        outputs = XWb\n",
    "    else:\n",
    "        outputs = activation(XWb)\n",
    "    return outputs\n"
   ]
  },
  {
   "cell_type": "markdown",
   "metadata": {},
   "source": [
    "## contruct the input layer"
   ]
  },
  {
   "cell_type": "code",
   "execution_count": 5,
   "metadata": {
    "collapsed": true
   },
   "outputs": [],
   "source": [
    "x = tf.placeholder(\"float\", [None, 784])\n"
   ]
  },
  {
   "cell_type": "markdown",
   "metadata": {},
   "source": [
    "## contruct the hidden layers"
   ]
  },
  {
   "cell_type": "code",
   "execution_count": 6,
   "metadata": {
    "collapsed": true
   },
   "outputs": [],
   "source": [
    "h1 = layer(output_dim=128, input_dim=784, inputs=x, layer=\"h1\", dropout_rate=0, activation=tf.nn.elu)\n",
    "h2 = layer(output_dim=128, input_dim=128, inputs=h1, layer=\"h2\", dropout_rate=0, activation=tf.nn.elu)\n",
    "h3 = layer(output_dim=128, input_dim=128, inputs=h2, layer=\"h3\", dropout_rate=0, activation=tf.nn.elu)\n",
    "h4 = layer(output_dim=128, input_dim=128, inputs=h3, layer=\"h4\", dropout_rate=0, activation=tf.nn.elu)\n",
    "h5 = layer(output_dim=128, input_dim=128, inputs=h4, layer=\"h5\", dropout_rate=0, activation=tf.nn.elu)\n"
   ]
  },
  {
   "cell_type": "markdown",
   "metadata": {},
   "source": [
    "## contruct the output layer"
   ]
  },
  {
   "cell_type": "code",
   "execution_count": 7,
   "metadata": {
    "collapsed": true
   },
   "outputs": [],
   "source": [
    "y_predict = layer(output_dim=5, input_dim=128, inputs=h5, layer=\"output\", dropout_rate=0, activation=None)\n",
    "y_label = tf.placeholder(\"float\", [None, 5])\n"
   ]
  },
  {
   "cell_type": "markdown",
   "metadata": {},
   "source": [
    "## start training"
   ]
  },
  {
   "cell_type": "code",
   "execution_count": 8,
   "metadata": {},
   "outputs": [
    {
     "name": "stdout",
     "output_type": "stream",
     "text": [
      "************************************************************\n",
      "fold:  1\n",
      "Best epoch: 11\n",
      "Best accurancy: 0.989542\n",
      "************************************************************ \n",
      "\n",
      "************************************************************\n",
      "fold:  2\n",
      "Best epoch: 0\n",
      "Best accurancy: 0.99902\n",
      "************************************************************ \n",
      "\n",
      "************************************************************\n",
      "fold:  3\n",
      "Best epoch: 0\n",
      "Best accurancy: 0.99902\n",
      "************************************************************ \n",
      "\n",
      "************************************************************\n",
      "fold:  4\n",
      "Best epoch: 0\n",
      "Best accurancy: 0.99902\n",
      "************************************************************ \n",
      "\n",
      "************************************************************\n",
      "fold:  5\n",
      "Best epoch: 0\n",
      "Best accurancy: 0.99902\n",
      "************************************************************ \n",
      "\n",
      "************************************************************\n",
      "fold:  6\n",
      "Best epoch: 0\n",
      "Best accurancy: 1.0\n",
      "************************************************************ \n",
      "\n",
      "************************************************************\n",
      "fold:  7\n",
      "Best epoch: 0\n",
      "Best accurancy: 1.0\n",
      "************************************************************ \n",
      "\n",
      "************************************************************\n",
      "fold:  8\n",
      "Best epoch: 0\n",
      "Best accurancy: 1.0\n",
      "************************************************************ \n",
      "\n",
      "************************************************************\n",
      "fold:  9\n",
      "Best epoch: 0\n",
      "Best accurancy: 1.0\n",
      "************************************************************ \n",
      "\n",
      "************************************************************\n",
      "fold:  10\n",
      "Best epoch: 0\n",
      "Best accurancy: 1.0\n",
      "************************************************************ \n",
      "\n",
      "============================================================\n",
      "Test data accurancy 0.991049\n",
      "============================================================ \n",
      "\n"
     ]
    }
   ],
   "source": [
    "# import sklearn Kfold to implement cross-validation\n",
    "from sklearn.model_selection import KFold\n",
    "\n",
    "# hyper parameters\n",
    "lr = 0.005\n",
    "batch_size = 256\n",
    "epochs = 350\n",
    "saturate_limit = 20  # for applying early stopping\n",
    "fold_num = 10\n",
    "\n",
    "# parameters\n",
    "saturate_count = 0\n",
    "best_acc = 0.\n",
    "best_epoch = -1\n",
    "\n",
    "\n",
    "# set the loss function; tf.nn.sparse_softmax_cross_entropy_with_logits required by the homework spec\n",
    "loss_function = tf.reduce_mean(tf.nn.softmax_cross_entropy_with_logits(logits=y_predict, labels=y_label))\n",
    "\n",
    "# set the optimizer\n",
    "optimizer = tf.train.AdamOptimizer(learning_rate=lr) \\\n",
    "                    .minimize(loss_function)\n",
    "\n",
    "# compare prediction and label\n",
    "correct_prediction = tf.equal(tf.argmax(y_label, 1), tf.argmax(y_predict, 1))\n",
    "accuracy = tf.reduce_mean(tf.cast(correct_prediction, \"float\"))\n",
    "\n",
    "# Merge the train and validation list\n",
    "X_data = np.concatenate((X_train1, X_valid1), axis=0)\n",
    "y_data = np.concatenate((y_train_one_hot, y_valid_one_hot), axis=0)\n",
    "\n",
    "with tf.Session() as sess:\n",
    "    sess.run(tf.global_variables_initializer())\n",
    "    \n",
    "    # 10-folder\n",
    "    kf = KFold(n_splits=fold_num)\n",
    "    fold_flag = 1\n",
    "    for train_index, test_index in kf.split(X_data):\n",
    "        X_train_tmp, X_valid_tmp = X_data[train_index], X_data[test_index]\n",
    "        y_train_tmp, y_valid_tmp = y_data[train_index], y_data[test_index]\n",
    "        \n",
    "        for e in range(epochs):\n",
    "            for i in range(int(X_train_tmp.shape[0] / batch_size)):\n",
    "                if(i==0):\n",
    "                    batch_x = X_train_tmp[:batch_size]\n",
    "                    batch_y = y_train_tmp[:batch_size]\n",
    "                else:\n",
    "                    batch_x = X_train_tmp[i * batch_size : (i + 1) * batch_size]\n",
    "                    batch_y = y_train_tmp[i * batch_size : (i + 1) * batch_size]\n",
    "                    \n",
    "                sess.run(optimizer, feed_dict={x: batch_x, y_label: batch_y})\n",
    "        \n",
    "            # validate\n",
    "            loss, acc = sess.run([loss_function, accuracy], feed_dict={x: X_valid_tmp, y_label: y_valid_tmp})\n",
    "        \n",
    "            if best_acc < acc:\n",
    "                best_acc = acc\n",
    "                best_epoch = e\n",
    "                saturate_count = 0\n",
    "            else:\n",
    "                saturate_count += 1\n",
    "                if saturate_count >= saturate_limit:  # stop if saturate\n",
    "                    break\n",
    "    \n",
    "        \n",
    "        # print the best epoch results   \n",
    "        print('*' * 60)\n",
    "        print('fold: ', fold_flag)\n",
    "        print('Best epoch:', best_epoch)\n",
    "        print('Best accurancy:', best_acc)\n",
    "        print('*' * 60, '\\n')\n",
    "        fold_flag = fold_flag + 1\n",
    "    \n",
    "    # print the test data accurancy\n",
    "    print('=' * 60)\n",
    "    print(\"Test data accurancy\", sess.run(accuracy,\n",
    "                               feed_dict={x: X_test1,\n",
    "                                          y_label: y_test_one_hot}))\n",
    "    print('=' * 60, '\\n')\n",
    "    \n",
    "    # get prediction results\n",
    "    predict_result = sess.run(tf.argmax(y_predict, 1), \n",
    "                                 feed_dict={x: X_test1})\n",
    "    \n",
    "    # count the true or false num of label\n",
    "    recall_matrix = np.zeros((5, 2))\n",
    "    precision_matrix = np.zeros((5, 2))\n",
    "    compare_result = sess.run(tf.equal(predict_result, y_test1))\n",
    "   \n",
    "    # construct the confusion matrix\n",
    "    for i in range(len(predict_result)):\n",
    "        if(compare_result[i]==True):\n",
    "            recall_matrix[y_test1[i]][0] += 1\n",
    "            precision_matrix[predict_result[i]][0] += 1\n",
    "        else:\n",
    "            recall_matrix[y_test1[i]][1] += 1\n",
    "            precision_matrix[predict_result[i]][1] += 1\n",
    "            \n",
    "    # count the recall and precision value for every label\n",
    "    label_dict = []\n",
    "    for i in range(5):\n",
    "        tmp_obj = {}\n",
    "        tmp_obj['label'] = i\n",
    "        tmp_obj['Precision'] = i\n",
    "        pre =  precision_matrix[i][0]/(precision_matrix[i][0] + precision_matrix[i][1])\n",
    "        rec = recall_matrix[i][0]/(recall_matrix[i][0] + recall_matrix[i][1])\n",
    "        tmp_obj['Precision'] = pre\n",
    "        tmp_obj['Recall'] = rec\n",
    "        label_dict.append(tmp_obj)\n",
    "    label_df = pd.DataFrame(label_dict)\n",
    "        \n",
    "    "
   ]
  },
  {
   "cell_type": "markdown",
   "metadata": {},
   "source": [
    "### Show the Precision and recall by pandas"
   ]
  },
  {
   "cell_type": "code",
   "execution_count": 9,
   "metadata": {},
   "outputs": [
    {
     "data": {
      "text/html": [
       "<div>\n",
       "<style>\n",
       "    .dataframe thead tr:only-child th {\n",
       "        text-align: right;\n",
       "    }\n",
       "\n",
       "    .dataframe thead th {\n",
       "        text-align: left;\n",
       "    }\n",
       "\n",
       "    .dataframe tbody tr th {\n",
       "        vertical-align: top;\n",
       "    }\n",
       "</style>\n",
       "<table border=\"1\" class=\"dataframe\">\n",
       "  <thead>\n",
       "    <tr style=\"text-align: right;\">\n",
       "      <th></th>\n",
       "      <th>label</th>\n",
       "      <th>Precision</th>\n",
       "      <th>Recall</th>\n",
       "    </tr>\n",
       "  </thead>\n",
       "  <tbody>\n",
       "    <tr>\n",
       "      <th>0</th>\n",
       "      <td>0</td>\n",
       "      <td>0.992872</td>\n",
       "      <td>0.994898</td>\n",
       "    </tr>\n",
       "    <tr>\n",
       "      <th>1</th>\n",
       "      <td>1</td>\n",
       "      <td>0.999112</td>\n",
       "      <td>0.991189</td>\n",
       "    </tr>\n",
       "    <tr>\n",
       "      <th>2</th>\n",
       "      <td>2</td>\n",
       "      <td>0.992149</td>\n",
       "      <td>0.979651</td>\n",
       "    </tr>\n",
       "    <tr>\n",
       "      <th>3</th>\n",
       "      <td>3</td>\n",
       "      <td>0.991115</td>\n",
       "      <td>0.994059</td>\n",
       "    </tr>\n",
       "    <tr>\n",
       "      <th>4</th>\n",
       "      <td>4</td>\n",
       "      <td>0.978979</td>\n",
       "      <td>0.995927</td>\n",
       "    </tr>\n",
       "  </tbody>\n",
       "</table>\n",
       "</div>"
      ],
      "text/plain": [
       "   label  Precision    Recall\n",
       "0      0   0.992872  0.994898\n",
       "1      1   0.999112  0.991189\n",
       "2      2   0.992149  0.979651\n",
       "3      3   0.991115  0.994059\n",
       "4      4   0.978979  0.995927"
      ]
     },
     "execution_count": 9,
     "metadata": {},
     "output_type": "execute_result"
    }
   ],
   "source": [
    "label_df[['label', 'Precision', 'Recall']]"
   ]
  },
  {
   "cell_type": "code",
   "execution_count": 10,
   "metadata": {
    "collapsed": true
   },
   "outputs": [],
   "source": [
    "# First, We turn the y to one_hot \n",
    "# We construct five hidden layer and the activation function use the \"tf.nn.elu\"\n",
    "# Our epochs value = 350, but we have the early stop mechanism\n",
    "# And our batch size = 256(X_train1), we make every bath to train\n",
    "# We give the learning rate = 0.005, and we want to find the minimize loss value (AdamOptimizer)\n",
    "# And then, we use the validation date to adjust our model.\n",
    "# Our best accurancy could achieve \"0.995\"\n",
    "# We use the X_test1 data to give our model, and get the value is close to epoch accurancy value. \n",
    "# \"So our model is not overfitting.\"\n",
    "# We use the X_test1 data to get the prediction results, and count the precission and recall value.\n",
    "\n",
    "# Bonus part \n",
    "# We implement the cross-validation and dropout\n",
    "# We use the scikit learn's KFold to implement\n",
    "# The cross-validation method make the accurancy higher \n",
    "# But the value is near 1, we guess that the class of label is 0~4\n",
    "# This range is not very big, so it could get the correct value easily\n",
    "# But the dropout method couldn't make result better\n",
    "# So we use another cell to present\n",
    "# Please follow below\n"
   ]
  },
  {
   "cell_type": "markdown",
   "metadata": {
    "collapsed": true
   },
   "source": [
    "### Implement Dropout"
   ]
  },
  {
   "cell_type": "code",
   "execution_count": 11,
   "metadata": {},
   "outputs": [
    {
     "name": "stdout",
     "output_type": "stream",
     "text": [
      "************************************************************\n",
      "Best epoch: 18\n",
      "Best accurancy: 0.973417\n",
      "************************************************************ \n",
      "\n",
      "============================================================\n",
      "Accurancy 0.969839\n",
      "============================================================ \n",
      "\n"
     ]
    }
   ],
   "source": [
    "# add the dropout function at the hidden layer\n",
    "h1_drop = layer(output_dim=128, input_dim=784, inputs=x, layer=\"h1_drop\", dropout_rate=0.1, activation=tf.nn.elu)\n",
    "h2_drop = layer(output_dim=128, input_dim=128, inputs=h1_drop, layer=\"h2_drop\", dropout_rate=0.1, activation=tf.nn.elu)\n",
    "h3_drop = layer(output_dim=128, input_dim=128, inputs=h2_drop, layer=\"h3_drop\", dropout_rate=0.1, activation=tf.nn.elu)\n",
    "h4_drop = layer(output_dim=128, input_dim=128, inputs=h3_drop, layer=\"h4_drop\", dropout_rate=0.1, activation=tf.nn.elu)\n",
    "h5_drop = layer(output_dim=128, input_dim=128, inputs=h4_drop, layer=\"h5_drop\", dropout_rate=0.1, activation=tf.nn.elu)\n",
    "y_predict_drop = layer(output_dim=5, input_dim=128, inputs=h5_drop, layer=\"output_drop\", dropout_rate=0.1, activation=None)\n",
    "\n",
    "# hyper parameters\n",
    "lr = 0.005\n",
    "batch_size = 256\n",
    "epochs = 350\n",
    "saturate_limit = 20  # for applying early stopping\n",
    "\n",
    "# parameters\n",
    "iterations = int(X_train1.shape[0] / batch_size)\n",
    "saturate_count = 0\n",
    "best_acc = 0.\n",
    "best_epoch = -1\n",
    "\n",
    "# set the loss function; tf.nn.sparse_softmax_cross_entropy_with_logits required by the homework spec\n",
    "loss_function = tf.reduce_mean(tf.nn.softmax_cross_entropy_with_logits(logits=y_predict_drop, labels=y_label))\n",
    "\n",
    "# set the optimizer\n",
    "optimizer = tf.train.AdamOptimizer(learning_rate=lr) \\\n",
    "                    .minimize(loss_function)\n",
    "\n",
    "correct_prediction = tf.equal(tf.argmax(y_label, 1), tf.argmax(y_predict_drop, 1))\n",
    "accuracy = tf.reduce_mean(tf.cast(correct_prediction, \"float\"))\n",
    "\n",
    "with tf.Session() as sess:\n",
    "    sess.run(tf.global_variables_initializer())\n",
    "    \n",
    "    for e in range(epochs):\n",
    "        for i in range(iterations):\n",
    "            if(i==0):\n",
    "                batch_x = X_train1[:batch_size]\n",
    "                batch_y = y_train_one_hot[:batch_size]\n",
    "            else:\n",
    "                batch_x = X_train1[i * batch_size : (i + 1) * batch_size]\n",
    "                batch_y = y_train_one_hot[i * batch_size : (i + 1) * batch_size]\n",
    "\n",
    "            sess.run(optimizer, feed_dict={x: batch_x, y_label: batch_y})\n",
    "        \n",
    "        # validate\n",
    "        loss, acc = sess.run([loss_function, accuracy], feed_dict={x: X_valid1, y_label: y_valid_one_hot})\n",
    "\n",
    "        \n",
    "        if best_acc < acc:\n",
    "            best_acc = acc\n",
    "            best_epoch = e\n",
    "            saturate_count = 0\n",
    "        else:\n",
    "            saturate_count += 1\n",
    "            if saturate_count >= saturate_limit:  # stop if saturate\n",
    "                break\n",
    "                    \n",
    "    print('*' * 60)\n",
    "    print('Best epoch:', best_epoch)\n",
    "    print('Best accurancy:', best_acc)\n",
    "    print('*' * 60, '\\n')\n",
    "    \n",
    "    print('=' * 60)\n",
    "    print(\"Accurancy\", sess.run(accuracy,\n",
    "                               feed_dict={x: X_test1,\n",
    "                                          y_label: y_test_one_hot}))\n",
    "    print('=' * 60, '\\n')\n",
    "    \n",
    "    #get prediction results\n",
    "    predict_result = sess.run(tf.argmax(y_predict_drop, 1), \n",
    "                                 feed_dict={x: X_test1})\n",
    "    \n",
    "    # count the true or false num of label\n",
    "    recall_matrix = np.zeros((5, 2))\n",
    "    precision_matrix = np.zeros((5, 2))\n",
    "    compare_result = sess.run(tf.equal(predict_result, y_test1))\n",
    "   \n",
    "    for i in range(len(predict_result)):\n",
    "        if(compare_result[i]==True):\n",
    "            recall_matrix[y_test1[i]][0] += 1\n",
    "            precision_matrix[predict_result[i]][0] += 1\n",
    "        else:\n",
    "            recall_matrix[y_test1[i]][1] += 1\n",
    "            precision_matrix[predict_result[i]][1] += 1\n",
    "    \n",
    "    label_dict = []\n",
    "    for i in range(5):\n",
    "        tmp_obj = {}\n",
    "        tmp_obj['label'] = i\n",
    "        tmp_obj['Precision'] = i\n",
    "        pre =  precision_matrix[i][0]/(precision_matrix[i][0] + precision_matrix[i][1])\n",
    "        rec = recall_matrix[i][0]/(recall_matrix[i][0] + recall_matrix[i][1])\n",
    "        tmp_obj['Precision'] = pre\n",
    "        tmp_obj['Recall'] = rec\n",
    "        label_dict.append(tmp_obj)\n",
    "    label_df = pd.DataFrame(label_dict)\n",
    "        \n",
    "    \n"
   ]
  },
  {
   "cell_type": "markdown",
   "metadata": {},
   "source": [
    "### dropout results"
   ]
  },
  {
   "cell_type": "code",
   "execution_count": 12,
   "metadata": {},
   "outputs": [
    {
     "data": {
      "text/html": [
       "<div>\n",
       "<style>\n",
       "    .dataframe thead tr:only-child th {\n",
       "        text-align: right;\n",
       "    }\n",
       "\n",
       "    .dataframe thead th {\n",
       "        text-align: left;\n",
       "    }\n",
       "\n",
       "    .dataframe tbody tr th {\n",
       "        vertical-align: top;\n",
       "    }\n",
       "</style>\n",
       "<table border=\"1\" class=\"dataframe\">\n",
       "  <thead>\n",
       "    <tr style=\"text-align: right;\">\n",
       "      <th></th>\n",
       "      <th>label</th>\n",
       "      <th>Precision</th>\n",
       "      <th>Recall</th>\n",
       "    </tr>\n",
       "  </thead>\n",
       "  <tbody>\n",
       "    <tr>\n",
       "      <th>0</th>\n",
       "      <td>0</td>\n",
       "      <td>0.954902</td>\n",
       "      <td>0.993878</td>\n",
       "    </tr>\n",
       "    <tr>\n",
       "      <th>1</th>\n",
       "      <td>1</td>\n",
       "      <td>0.979878</td>\n",
       "      <td>0.986784</td>\n",
       "    </tr>\n",
       "    <tr>\n",
       "      <th>2</th>\n",
       "      <td>2</td>\n",
       "      <td>0.958654</td>\n",
       "      <td>0.966085</td>\n",
       "    </tr>\n",
       "    <tr>\n",
       "      <th>3</th>\n",
       "      <td>3</td>\n",
       "      <td>0.986775</td>\n",
       "      <td>0.960396</td>\n",
       "    </tr>\n",
       "    <tr>\n",
       "      <th>4</th>\n",
       "      <td>4</td>\n",
       "      <td>0.990556</td>\n",
       "      <td>0.961303</td>\n",
       "    </tr>\n",
       "  </tbody>\n",
       "</table>\n",
       "</div>"
      ],
      "text/plain": [
       "   label  Precision    Recall\n",
       "0      0   0.954902  0.993878\n",
       "1      1   0.979878  0.986784\n",
       "2      2   0.958654  0.966085\n",
       "3      3   0.986775  0.960396\n",
       "4      4   0.990556  0.961303"
      ]
     },
     "execution_count": 12,
     "metadata": {},
     "output_type": "execute_result"
    }
   ],
   "source": [
    "label_df[['label', 'Precision', 'Recall']]"
   ]
  },
  {
   "cell_type": "code",
   "execution_count": 13,
   "metadata": {
    "collapsed": true
   },
   "outputs": [],
   "source": [
    "# We give the dropout_rate=0.1, \n",
    "# But we can't get the better accurancy (Normal=0.99, dropout=0.97)\n",
    "# Maybe the label class is 0~4, it not big.\n",
    "# So We guess it could influence our results' value\n"
   ]
  },
  {
   "cell_type": "code",
   "execution_count": null,
   "metadata": {
    "collapsed": true
   },
   "outputs": [],
   "source": []
  }
 ],
 "metadata": {
  "kernelspec": {
   "display_name": "Python 3",
   "language": "python",
   "name": "python3"
  },
  "language_info": {
   "codemirror_mode": {
    "name": "ipython",
    "version": 3
   },
   "file_extension": ".py",
   "mimetype": "text/x-python",
   "name": "python",
   "nbconvert_exporter": "python",
   "pygments_lexer": "ipython3",
   "version": "3.5.4"
  }
 },
 "nbformat": 4,
 "nbformat_minor": 2
}
