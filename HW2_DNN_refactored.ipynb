{
 "cells": [
  {
   "cell_type": "markdown",
   "metadata": {},
   "source": [
    "## Download the data"
   ]
  },
  {
   "cell_type": "code",
   "execution_count": 1,
   "metadata": {},
   "outputs": [
    {
     "name": "stdout",
     "output_type": "stream",
     "text": [
      "Extracting /tmp/data/train-images-idx3-ubyte.gz\n",
      "Extracting /tmp/data/train-labels-idx1-ubyte.gz\n",
      "Extracting /tmp/data/t10k-images-idx3-ubyte.gz\n",
      "Extracting /tmp/data/t10k-labels-idx1-ubyte.gz\n"
     ]
    }
   ],
   "source": [
    "import numpy as np\n",
    "import os\n",
    "import tensorflow as tf\n",
    "import pandas as pd\n",
    "\n",
    "if 'session' in locals() and session is not None:\n",
    "    print('Close interactive session')\n",
    "    session.close()\n",
    "\n",
    "###### Do not modify here ###### \n",
    "\n",
    "# to make this notebook's output stable across runs\n",
    "def reset_graph(seed=42):\n",
    "    tf.reset_default_graph()\n",
    "    tf.set_random_seed(seed)\n",
    "    np.random.seed(seed)\n",
    "\n",
    "reset_graph()\n",
    "\n",
    "from tensorflow.examples.tutorials.mnist import input_data\n",
    "mnist = input_data.read_data_sets(\"/tmp/data/\")\n",
    "\n",
    "# training on MNIST but only on digits 0 to 4\n",
    "X_train1 = mnist.train.images[mnist.train.labels < 5]\n",
    "y_train1 = mnist.train.labels[mnist.train.labels < 5]\n",
    "X_valid1 = mnist.validation.images[mnist.validation.labels < 5]\n",
    "y_valid1 = mnist.validation.labels[mnist.validation.labels < 5]\n",
    "X_test1 = mnist.test.images[mnist.test.labels < 5]\n",
    "y_test1 = mnist.test.labels[mnist.test.labels < 5]\n",
    "###### Do not modify here ###### \n"
   ]
  },
  {
   "cell_type": "markdown",
   "metadata": {},
   "source": [
    "# Get the data shape"
   ]
  },
  {
   "cell_type": "code",
   "execution_count": 2,
   "metadata": {},
   "outputs": [
    {
     "name": "stdout",
     "output_type": "stream",
     "text": [
      "Train 55000 Validation 5000 Test 10000\n",
      "Train images : (28038, 784) Labels : (28038,)\n",
      "Validation images : (2558, 784) Labels : (2558,)\n",
      "Test images : (5139, 784) Labels : (5139,)\n"
     ]
    }
   ],
   "source": [
    "print('Train', mnist.train.num_examples, \n",
    "      'Validation', mnist.validation.num_examples,\n",
    "      'Test', mnist.test.num_examples)\n",
    "\n",
    "print('Train images :', X_train1.shape,\n",
    "      'Labels :', y_train1.shape)\n",
    "\n",
    "print('Validation images :', X_valid1.shape,\n",
    "      'Labels :', y_valid1.shape)\n",
    "\n",
    "print('Test images :', X_test1.shape,\n",
    "      'Labels :', y_test1.shape)"
   ]
  },
  {
   "cell_type": "markdown",
   "metadata": {},
   "source": [
    "## Hyper parameters"
   ]
  },
  {
   "cell_type": "code",
   "execution_count": 3,
   "metadata": {
    "collapsed": true
   },
   "outputs": [],
   "source": [
    "# hyper parameters\n",
    "lr = 0.005\n",
    "batch_size = 256\n",
    "epochs = 350\n",
    "saturate_limit = 20  # for applying early stopping\n",
    "fold_num = 10\n"
   ]
  },
  {
   "cell_type": "markdown",
   "metadata": {},
   "source": [
    "## Model"
   ]
  },
  {
   "cell_type": "code",
   "execution_count": 4,
   "metadata": {
    "collapsed": true
   },
   "outputs": [],
   "source": [
    "inputs_num = 784\n",
    "outputs_num = 5\n",
    "\n",
    "he_init = tf.contrib.layers.variance_scaling_initializer()\n",
    "\n",
    "def dnn(X):\n",
    "    # hidden layers\n",
    "    dense1 = tf.layers.dense(inputs=X, units=128, activation=tf.nn.elu, kernel_initializer=he_init, name='dense1')\n",
    "    dense2 = tf.layers.dense(inputs=dense1, units=128, activation=tf.nn.elu, kernel_initializer=he_init, name='dense2')\n",
    "    dense3 = tf.layers.dense(inputs=dense2, units=128, activation=tf.nn.elu, kernel_initializer=he_init, name='dense3')\n",
    "    dense4 = tf.layers.dense(inputs=dense3, units=128, activation=tf.nn.elu, kernel_initializer=he_init, name='dense4')\n",
    "    dense5 = tf.layers.dense(inputs=dense4, units=128, activation=tf.nn.elu, kernel_initializer=he_init, name='dense5')\n",
    "    return dense5\n",
    "        \n",
    "X = tf.placeholder(tf.float32, shape=(None, inputs_num), name='X')  # input layer\n",
    "y = tf.placeholder(tf.int64, shape=(None), name='y')  # label\n",
    "\n",
    "dnn_outputs = dnn(X)\n",
    "\n",
    "#import pdb; pdb.set_trace()\n",
    "logits = tf.layers.dense(inputs=dnn_outputs, units=outputs_num, activation=None, kernel_initializer=he_init, name='logits')\n",
    "Y_probability = tf.nn.softmax(logits, name='Y_probability')\n",
    "\n",
    "cross_entropy = tf.nn.sparse_softmax_cross_entropy_with_logits(labels=y, logits=logits)\n",
    "loss_function = tf.reduce_mean(cross_entropy, name='loss')\n",
    "\n",
    "optimizer = tf.train.AdamOptimizer(lr)\n",
    "training_op = optimizer.minimize(loss_function, name='training_op')\n",
    "\n",
    "correct = tf.nn.in_top_k(logits, y, k=1)\n",
    "accuracy = tf.reduce_mean(tf.cast(correct, tf.float32), name='accuracy')\n"
   ]
  },
  {
   "cell_type": "markdown",
   "metadata": {},
   "source": [
    "## Training"
   ]
  },
  {
   "cell_type": "code",
   "execution_count": 5,
   "metadata": {},
   "outputs": [
    {
     "name": "stdout",
     "output_type": "stream",
     "text": [
      "************************************************************\n",
      "Fold: 1\n",
      "Best epoch: 18\n",
      "Best accurancy: 0.989542\n",
      "Best loss: 0.0583357\n",
      "************************************************************ \n",
      "\n",
      "============================================================\n",
      "Test data accurancy 0.9928\n",
      "============================================================ \n",
      "\n",
      "************************************************************\n",
      "Fold: 2\n",
      "Best epoch: 23\n",
      "Best accurancy: 0.991176\n",
      "Best loss: 0.0448297\n",
      "************************************************************ \n",
      "\n",
      "============================================================\n",
      "Test data accurancy 0.992995\n",
      "============================================================ \n",
      "\n",
      "************************************************************\n",
      "Fold: 3\n",
      "Best epoch: 7\n",
      "Best accurancy: 0.992157\n",
      "Best loss: 0.0272\n",
      "************************************************************ \n",
      "\n",
      "============================================================\n",
      "Test data accurancy 0.993189\n",
      "============================================================ \n",
      "\n",
      "************************************************************\n",
      "Fold: 4\n",
      "Best epoch: 30\n",
      "Best accurancy: 0.992484\n",
      "Best loss: 0.0382667\n",
      "************************************************************ \n",
      "\n",
      "============================================================\n",
      "Test data accurancy 0.993384\n",
      "============================================================ \n",
      "\n",
      "************************************************************\n",
      "Fold: 5\n",
      "Best epoch: 24\n",
      "Best accurancy: 0.990196\n",
      "Best loss: 0.0457701\n",
      "************************************************************ \n",
      "\n",
      "============================================================\n",
      "Test data accurancy 0.989103\n",
      "============================================================ \n",
      "\n",
      "************************************************************\n",
      "Fold: 6\n",
      "Best epoch: 21\n",
      "Best accurancy: 0.987582\n",
      "Best loss: 0.0490071\n",
      "************************************************************ \n",
      "\n",
      "============================================================\n",
      "Test data accurancy 0.975676\n",
      "============================================================ \n",
      "\n",
      "************************************************************\n",
      "Fold: 7\n",
      "Best epoch: 18\n",
      "Best accurancy: 0.989539\n",
      "Best loss: 0.0546224\n",
      "************************************************************ \n",
      "\n",
      "============================================================\n",
      "Test data accurancy 0.988908\n",
      "============================================================ \n",
      "\n",
      "************************************************************\n",
      "Fold: 8\n",
      "Best epoch: 7\n",
      "Best accurancy: 0.990193\n",
      "Best loss: 0.0381757\n",
      "************************************************************ \n",
      "\n",
      "============================================================\n",
      "Test data accurancy 0.991633\n",
      "============================================================ \n",
      "\n",
      "************************************************************\n",
      "Fold: 9\n",
      "Best epoch: 19\n",
      "Best accurancy: 0.988558\n",
      "Best loss: 0.0530386\n",
      "************************************************************ \n",
      "\n",
      "============================================================\n",
      "Test data accurancy 0.98599\n",
      "============================================================ \n",
      "\n",
      "************************************************************\n",
      "Fold: 10\n",
      "Best epoch: 25\n",
      "Best accurancy: 0.99052\n",
      "Best loss: 0.0489961\n",
      "************************************************************ \n",
      "\n",
      "============================================================\n",
      "Test data accurancy 0.991633\n",
      "============================================================ \n",
      "\n"
     ]
    }
   ],
   "source": [
    "# import sklearn Kfold to implement cross-validation\n",
    "from sklearn.model_selection import KFold\n",
    "\n",
    "# Merge training and validation set for K-fold cross validation\n",
    "X_data = np.concatenate((X_train1, X_valid1), axis=0)\n",
    "y_data = np.concatenate((y_train1, y_valid1), axis=0)\n",
    "\n",
    "\n",
    "# 10-folder\n",
    "kf = KFold(n_splits=fold_num, shuffle=True)\n",
    "iterations = int(X_train1.shape[0] / batch_size)\n",
    "for fold_index, fold_indices in enumerate(kf.split(X_data), 1):\n",
    "    # get data of this fold\n",
    "    train_fold_indices, test_fold_indices = fold_indices\n",
    "    X_train_fold, X_valid_fold = X_data[train_fold_indices], X_data[test_fold_indices]\n",
    "    y_train_fold, y_valid_fold = y_data[train_fold_indices], y_data[test_fold_indices]\n",
    "\n",
    "    with tf.Session() as sess:\n",
    "        sess.run(tf.global_variables_initializer())\n",
    "        \n",
    "        # parameters\n",
    "        saturate_count = 0\n",
    "        best_acc = 0.\n",
    "        best_loss = 1000.\n",
    "        best_epoch = -1\n",
    "        \n",
    "        # training for number of epochs times\n",
    "        for e in range(1, epochs + 1):\n",
    "            for i in range(iterations):\n",
    "                if(i==0):\n",
    "                    batch_x = X_train_fold[:batch_size]\n",
    "                    batch_y = y_train_fold[:batch_size]\n",
    "                else:\n",
    "                    batch_x = X_train_fold[i * batch_size : (i + 1) * batch_size]\n",
    "                    batch_y = y_train_fold[i * batch_size : (i + 1) * batch_size]\n",
    "                    \n",
    "                sess.run(training_op, feed_dict={X: batch_x, y: batch_y})\n",
    "        \n",
    "            # validate\n",
    "            loss, acc = sess.run([loss_function, accuracy], feed_dict={X: X_valid_fold, y: y_valid_fold})\n",
    "        \n",
    "            if best_loss > loss:\n",
    "                best_acc = acc\n",
    "                best_loss = loss\n",
    "                best_epoch = e\n",
    "                saturate_count = 0\n",
    "            else:\n",
    "                saturate_count += 1\n",
    "\n",
    "                if saturate_count >= saturate_limit:  # stop if saturate\n",
    "                    break\n",
    "    \n",
    "        # print the best result of this fold cross all epochs\n",
    "        print('*' * 60)\n",
    "        print('Fold:', fold_index)\n",
    "        print('Best epoch:', best_epoch)\n",
    "        print('Best accurancy:', best_acc)\n",
    "        print('Best loss:', best_loss)\n",
    "        print('*' * 60, '\\n')\n",
    "    \n",
    "        # print the test data accurancy\n",
    "        print('=' * 60)\n",
    "        print(\"Test data accurancy\", sess.run(accuracy,\n",
    "                                              feed_dict={X: X_test1,\n",
    "                                                         y: y_test1}))\n",
    "        print('=' * 60, '\\n')\n",
    "    "
   ]
  },
  {
   "cell_type": "code",
   "execution_count": null,
   "metadata": {
    "collapsed": true
   },
   "outputs": [],
   "source": []
  }
 ],
 "metadata": {
  "kernelspec": {
   "display_name": "Python 3",
   "language": "python",
   "name": "python3"
  },
  "language_info": {
   "codemirror_mode": {
    "name": "ipython",
    "version": 3
   },
   "file_extension": ".py",
   "mimetype": "text/x-python",
   "name": "python",
   "nbconvert_exporter": "python",
   "pygments_lexer": "ipython3",
   "version": "3.5.4"
  }
 },
 "nbformat": 4,
 "nbformat_minor": 2
}
