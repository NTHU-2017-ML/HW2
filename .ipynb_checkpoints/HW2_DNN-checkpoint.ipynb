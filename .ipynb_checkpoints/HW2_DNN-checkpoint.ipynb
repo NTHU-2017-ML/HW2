{
 "cells": [
  {
   "cell_type": "markdown",
   "metadata": {},
   "source": [
    "## Download the data"
   ]
  },
  {
   "cell_type": "code",
   "execution_count": 1,
   "metadata": {},
   "outputs": [
    {
     "name": "stdout",
     "output_type": "stream",
     "text": [
      "Successfully downloaded train-images-idx3-ubyte.gz 9912422 bytes.\n",
      "Extracting /tmp/data/train-images-idx3-ubyte.gz\n",
      "Successfully downloaded train-labels-idx1-ubyte.gz 28881 bytes.\n",
      "Extracting /tmp/data/train-labels-idx1-ubyte.gz\n",
      "Successfully downloaded t10k-images-idx3-ubyte.gz 1648877 bytes.\n",
      "Extracting /tmp/data/t10k-images-idx3-ubyte.gz\n",
      "Successfully downloaded t10k-labels-idx1-ubyte.gz 4542 bytes.\n",
      "Extracting /tmp/data/t10k-labels-idx1-ubyte.gz\n"
     ]
    }
   ],
   "source": [
    "import numpy as np\n",
    "import os\n",
    "import tensorflow as tf\n",
    "\n",
    "###### Do not modify here ###### \n",
    "\n",
    "# to make this notebook's output stable across runs\n",
    "def reset_graph(seed=42):\n",
    "    tf.reset_default_graph()\n",
    "    tf.set_random_seed(seed)\n",
    "    np.random.seed(seed)\n",
    "\n",
    "reset_graph()\n",
    "\n",
    "from tensorflow.examples.tutorials.mnist import input_data\n",
    "mnist = input_data.read_data_sets(\"/tmp/data/\")\n",
    "\n",
    "# training on MNIST but only on digits 0 to 4\n",
    "X_train1 = mnist.train.images[mnist.train.labels < 5]\n",
    "y_train1 = mnist.train.labels[mnist.train.labels < 5]\n",
    "X_valid1 = mnist.validation.images[mnist.validation.labels < 5]\n",
    "y_valid1 = mnist.validation.labels[mnist.validation.labels < 5]\n",
    "X_test1 = mnist.test.images[mnist.test.labels < 5]\n",
    "y_test1 = mnist.test.labels[mnist.test.labels < 5]\n",
    "###### Do not modify here ###### \n"
   ]
  },
  {
   "cell_type": "markdown",
   "metadata": {},
   "source": [
    "## Get the data shape"
   ]
  },
  {
   "cell_type": "code",
   "execution_count": 2,
   "metadata": {},
   "outputs": [
    {
     "name": "stdout",
     "output_type": "stream",
     "text": [
      "Train 55000 Validation 5000 Test 10000\n",
      "Train images : (28038, 784) Labels : (28038,)\n",
      "Validation images : (2558, 784) Labels : (2558,)\n",
      "Test images : (5139, 784) Labels : (5139,)\n"
     ]
    }
   ],
   "source": [
    "print('Train', mnist.train.num_examples, \n",
    "      'Validation', mnist.validation.num_examples,\n",
    "      'Test', mnist.test.num_examples)\n",
    "\n",
    "print('Train images :', X_train1.shape,\n",
    "      'Labels :', y_train1.shape)\n",
    "\n",
    "print('Validation images :', X_valid1.shape,\n",
    "      'Labels :', y_valid1.shape)\n",
    "\n",
    "print('Test images :', X_test1.shape,\n",
    "      'Labels :', y_test1.shape)\n"
   ]
  },
  {
   "cell_type": "markdown",
   "metadata": {},
   "source": [
    "## One-hot encoded y values"
   ]
  },
  {
   "cell_type": "code",
   "execution_count": 3,
   "metadata": {},
   "outputs": [
    {
     "name": "stdout",
     "output_type": "stream",
     "text": [
      "Check some examples of one-hot encoding:\n",
      "3 [ 0.  0.  0.  1.  0.] \n",
      "\n",
      "4 [ 0.  0.  0.  0.  1.] \n",
      "\n",
      "1 [ 0.  1.  0.  0.  0.] \n",
      "\n",
      "1 [ 0.  1.  0.  0.  0.] \n",
      "\n",
      "0 [ 1.  0.  0.  0.  0.] \n",
      "\n",
      "0 [ 1.  0.  0.  0.  0.] \n",
      "\n",
      "3 [ 0.  0.  0.  1.  0.] \n",
      "\n",
      "1 [ 0.  1.  0.  0.  0.] \n",
      "\n",
      "2 [ 0.  0.  1.  0.  0.] \n",
      "\n",
      "0 [ 1.  0.  0.  0.  0.] \n",
      "\n",
      "Train Label:  (28038, 5)\n",
      "Validation Label:  (2558, 5)\n",
      "Test Label:  (5139, 5)\n"
     ]
    }
   ],
   "source": [
    "y_train_one_hot = np.zeros((len(y_train1), 5))\n",
    "y_train_one_hot[np.arange(len(y_train1)), y_train1] = 1\n",
    "\n",
    "y_valid_one_hot = np.zeros((len(y_valid1), 5))\n",
    "y_valid_one_hot[np.arange(len(y_valid1)), y_valid1] = 1\n",
    "\n",
    "y_test_one_hot = np.zeros((len(y_test1), 5))\n",
    "y_test_one_hot[np.arange(len(y_test1)), y_test1] = 1\n",
    "\n",
    "print('Check some examples of one-hot encoding:')\n",
    "for i in range(10):\n",
    "    print(y_train1[i], y_train_one_hot[i], '\\n')\n",
    "\n",
    "print (\"Train Label: \", y_train_one_hot.shape)\n",
    "print (\"Validation Label: \", y_valid_one_hot.shape)\n",
    "print (\"Test Label: \", y_test_one_hot.shape)\n"
   ]
  },
  {
   "cell_type": "markdown",
   "metadata": {},
   "source": [
    "### Construct the layer function"
   ]
  },
  {
   "cell_type": "code",
   "execution_count": 4,
   "metadata": {
    "collapsed": true
   },
   "outputs": [],
   "source": [
    "def layer(output_dim, input_dim, inputs, layer, activation=None):\n",
    "#     W = tf.Variable(tf.random_normal([input_dim, output_dim]))\n",
    "#     b = tf.get_variable(tf.random_normal([1, output_dim]))\n",
    "#     W = tf.Variable(tf.truncated_normal(shape = (input_dim, output_dim),mean = 0, stddev = 0.1))\n",
    "#     b = tf.Variable(tf.zeros(output_dim))\n",
    "\n",
    "    W = tf.get_variable(\"W\" + layer, shape=[input_dim, output_dim], initializer=tf.contrib.layers.xavier_initializer())\n",
    "    b = tf.get_variable(\"b\" + layer, shape=[1, output_dim], initializer=tf.contrib.layers.xavier_initializer())\n",
    "\n",
    "    XWb = tf.matmul(inputs, W) + b\n",
    "    if activation is None:\n",
    "        outputs = XWb\n",
    "    else:\n",
    "        outputs = activation(XWb)\n",
    "    return outputs\n"
   ]
  },
  {
   "cell_type": "markdown",
   "metadata": {},
   "source": [
    "## contruct the input layer"
   ]
  },
  {
   "cell_type": "code",
   "execution_count": 5,
   "metadata": {
    "collapsed": true
   },
   "outputs": [],
   "source": [
    "x = tf.placeholder(\"float\", [None, 784])\n"
   ]
  },
  {
   "cell_type": "markdown",
   "metadata": {},
   "source": [
    "## contruct the hidden layers"
   ]
  },
  {
   "cell_type": "code",
   "execution_count": 6,
   "metadata": {
    "collapsed": true
   },
   "outputs": [],
   "source": [
    "h1 = layer(output_dim=128, input_dim=784, inputs=x, layer=\"h1\", activation=tf.nn.elu)\n",
    "h2 = layer(output_dim=128, input_dim=128, inputs=h1, layer=\"h2\", activation=tf.nn.elu)\n",
    "h3 = layer(output_dim=128, input_dim=128, inputs=h2, layer=\"h3\", activation=tf.nn.elu)\n",
    "h4 = layer(output_dim=128, input_dim=128, inputs=h3, layer=\"h4\", activation=tf.nn.elu)\n",
    "h5 = layer(output_dim=128, input_dim=128, inputs=h4, layer=\"h5\", activation=tf.nn.elu)\n"
   ]
  },
  {
   "cell_type": "markdown",
   "metadata": {},
   "source": [
    "## contruct the output layer"
   ]
  },
  {
   "cell_type": "code",
   "execution_count": 7,
   "metadata": {
    "collapsed": true
   },
   "outputs": [],
   "source": [
    "y_predict = layer(output_dim=5, input_dim=128, inputs=h5, layer=\"output\", activation=None)\n",
    "y_label = tf.placeholder(\"float\", [None, 5])\n"
   ]
  },
  {
   "cell_type": "markdown",
   "metadata": {},
   "source": [
    "### start training"
   ]
  },
  {
   "cell_type": "code",
   "execution_count": 23,
   "metadata": {},
   "outputs": [
    {
     "name": "stdout",
     "output_type": "stream",
     "text": [
      "************************************************************\n",
      "Best epoch: 29\n",
      "Best accurancy: 0.994918\n",
      "************************************************************ \n",
      "\n",
      "============================================================\n",
      "Accurancy 0.992411\n",
      "============================================================ \n",
      "\n",
      "############################################################\n",
      "label \t Precision \t Recall\n",
      "0 \t 0.994903160041 \t 0.995918367347\n",
      "1 \t 0.999114260407 \t 0.993832599119\n",
      "2 \t 0.984511132623 \t 0.985465116279\n",
      "3 \t 0.989151873767 \t 0.993069306931\n",
      "4 \t 0.993890020367 \t 0.993890020367\n",
      "############################################################ \n",
      "\n"
     ]
    }
   ],
   "source": [
    "# hyper parameters\n",
    "lr = 0.005\n",
    "batch_size = 256\n",
    "epochs = 350\n",
    "saturate_limit = 20  # for applying early stopping\n",
    "\n",
    "# parameters\n",
    "iterations = int(X_train1.shape[0] / batch_size)\n",
    "saturate_count = 0\n",
    "best_acc = 0.\n",
    "best_epoch = -1\n",
    "\n",
    "# set the loss function; tf.nn.sparse_softmax_cross_entropy_with_logits required by the homework spec\n",
    "loss_function = tf.reduce_mean(tf.nn.softmax_cross_entropy_with_logits(logits=y_predict, labels=y_label))\n",
    "\n",
    "# set the optimizer\n",
    "optimizer = tf.train.AdamOptimizer(learning_rate=lr) \\\n",
    "                    .minimize(loss_function)\n",
    "\n",
    "correct_prediction = tf.equal(tf.argmax(y_label, 1), tf.argmax(y_predict, 1))\n",
    "accuracy = tf.reduce_mean(tf.cast(correct_prediction, \"float\"))\n",
    "\n",
    "with tf.Session() as sess:\n",
    "    sess.run(tf.global_variables_initializer())\n",
    "    \n",
    "    for e in range(epochs):\n",
    "        for i in range(iterations):\n",
    "            if(i==0):\n",
    "                batch_x = X_train1[:batch_size]\n",
    "                batch_y = y_train_one_hot[:batch_size]\n",
    "            else:\n",
    "                batch_x = X_train1[i * batch_size : (i + 1) * batch_size]\n",
    "                batch_y = y_train_one_hot[i * batch_size : (i + 1) * batch_size]\n",
    "\n",
    "            sess.run(optimizer, feed_dict={x: batch_x, y_label: batch_y})\n",
    "        \n",
    "        # validate\n",
    "        loss, acc = sess.run([loss_function, accuracy], feed_dict={x: X_valid1, y_label: y_valid_one_hot})\n",
    "        \n",
    "#         print('-' * 40)\n",
    "#         print('Epoch:', e)\n",
    "#         print('Loss:', loss)\n",
    "#         print('Accurancy:', acc)\n",
    "        \n",
    "        if best_acc < acc:\n",
    "#             print('best_acc occurs!')\n",
    "            best_acc = acc\n",
    "            best_epoch = e\n",
    "            saturate_count = 0\n",
    "        else:\n",
    "            saturate_count += 1\n",
    "#             print('increment saturate_count:', saturate_count)\n",
    "#             print('current best_acc:', best_acc)\n",
    "            \n",
    "            if saturate_count >= saturate_limit:  # stop if saturate\n",
    "#                 print('SATURATE!')\n",
    "                break\n",
    "                \n",
    "#         print('-' * 40, '\\n')\n",
    "        \n",
    "        \n",
    "    print('*' * 60)\n",
    "    print('Best epoch:', best_epoch)\n",
    "    print('Best accurancy:', best_acc)\n",
    "    print('*' * 60, '\\n')\n",
    "    \n",
    "    print('=' * 60)\n",
    "    print(\"Accurancy\", sess.run(accuracy,\n",
    "                               feed_dict={x: X_test1,\n",
    "                                          y_label: y_test_one_hot}))\n",
    "    print('=' * 60, '\\n')\n",
    "    \n",
    "    #get prediction results\n",
    "    predict_result = sess.run(tf.argmax(y_predict, 1), \n",
    "                                 feed_dict={x: X_test1})\n",
    "    \n",
    "    # count the true or false num of label\n",
    "    recall_matrix = np.zeros((5, 2))\n",
    "    precision_matrix = np.zeros((5, 2))\n",
    "    compare_result = sess.run(tf.equal(predict_result, y_test1))\n",
    "   \n",
    "    for i in range(len(predict_result)):\n",
    "        if(compare_result[i]==True):\n",
    "            recall_matrix[y_test1[i]][0] += 1\n",
    "            precision_matrix[predict_result[i]][0] += 1\n",
    "        else:\n",
    "            recall_matrix[y_test1[i]][1] += 1\n",
    "            precision_matrix[predict_result[i]][1] += 1\n",
    "    \n",
    "    print('#' * 60)\n",
    "    print('label', '\\t', 'Precision', '\\t', 'Recall')\n",
    "    for i in range(5):\n",
    "        pre =  precision_matrix[i][0]/(precision_matrix[i][0] + precision_matrix[i][1])\n",
    "        rec = recall_matrix[i][0]/(recall_matrix[i][0] + recall_matrix[i][1])\n",
    "        print(i, '\\t', pre, '\\t', rec)\n",
    "    print('#' * 60, '\\n')\n",
    "        \n",
    "    "
   ]
  },
  {
   "cell_type": "code",
   "execution_count": null,
   "metadata": {
    "collapsed": true
   },
   "outputs": [],
   "source": []
  }
 ],
 "metadata": {
  "kernelspec": {
   "display_name": "Python 3",
   "language": "python",
   "name": "python3"
  },
  "language_info": {
   "codemirror_mode": {
    "name": "ipython",
    "version": 3
   },
   "file_extension": ".py",
   "mimetype": "text/x-python",
   "name": "python",
   "nbconvert_exporter": "python",
   "pygments_lexer": "ipython3",
   "version": "3.5.3"
  }
 },
 "nbformat": 4,
 "nbformat_minor": 2
}
